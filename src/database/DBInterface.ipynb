{
 "cells": [
  {
   "cell_type": "code",
   "execution_count": 1,
   "metadata": {},
   "outputs": [
    {
     "name": "stdout",
     "output_type": "stream",
     "text": [
      "Requirement already satisfied: psycopg2 in c:\\users\\jeremy\\appdata\\local\\programs\\python\\python310\\lib\\site-packages (2.9.5)\n"
     ]
    }
   ],
   "source": [
    "!pip install psycopg2"
   ]
  },
  {
   "cell_type": "code",
   "execution_count": 11,
   "metadata": {},
   "outputs": [],
   "source": [
    "# pip install psycopg2\n",
    "import psycopg2\n",
    "class DBInterface:\n",
    "    def __init__(self, dbname, user, password, port):\n",
    "        self._conn = psycopg2.connect(dbname=dbname, user=user, password=password, port=port)\n",
    "        self._conn.set_session(autocommit=True)\n",
    "        self._cur = self._conn.cursor()\n",
    "        \n",
    "    def insert_entry(self, audio_filename, label):\n",
    "        # try:\n",
    "            self._cur.execute(f\"INSERT INTO audio(audio_filename, label) VALUES(%s, %s);\", (audio_filename, label))\n",
    "            self._conn.commit()\n",
    "        # except: \n",
    "            # print(\"issue with insert\")\n",
    "            # self._conn.rollback()\n",
    "\n",
    "    def retrieve_by_filename(self, audio_filename):\n",
    "        self._cur.execute(f\"SELECT * FROM audio WHERE (audio_filename=%s);\", (audio_filename,))\n",
    "        return self._cur.fetchone()\n",
    "\n",
    "    def retrieve_by_metadata(self, audio_metadata):\n",
    "        self._cur.execute(f\"SELECT * FROM audio WHERE (audio_filename=%s);\", (audio_metadata,))\n",
    "        return self._cur.fetchone()\n",
    "\n",
    "    def retrieve_all_label(self, label):\n",
    "        self._cur.execute(f\"SELECT * FROM audio WHERE (label=%s);\", (label,))\n",
    "        return self._cur.fetchall()\n",
    "  \n",
    "    def remove_entry(self, audio_filename):\n",
    "        self._cur.execute(f\"DELETE FROM audio WHERE (audio_filename=%s);\", (audio_filename,))"
   ]
  },
  {
   "cell_type": "code",
   "execution_count": 13,
   "metadata": {},
   "outputs": [
    {
     "name": "stdout",
     "output_type": "stream",
     "text": [
      "('test_path', 'engine, siren')\n"
     ]
    }
   ],
   "source": [
    "# PASSWORD can be found from important.txt, eventually use dotenv\n",
    "inter = DBInterface(\"classification_db\", \"postgres\", 'TL63-db', 5433)\n",
    "inter.insert_entry(\"test_path\", \"engine, siren\")\n",
    "print(inter.retrieve_by_filename(\"test_path\"))\n",
    "inter.remove_entry(\"test_path\")"
   ]
  }
 ],
 "metadata": {
  "kernelspec": {
   "display_name": "Python 3.10.8 64-bit",
   "language": "python",
   "name": "python3"
  },
  "language_info": {
   "codemirror_mode": {
    "name": "ipython",
    "version": 3
   },
   "file_extension": ".py",
   "mimetype": "text/x-python",
   "name": "python",
   "nbconvert_exporter": "python",
   "pygments_lexer": "ipython3",
   "version": "3.10.8 (tags/v3.10.8:aaaf517, Oct 11 2022, 16:50:30) [MSC v.1933 64 bit (AMD64)]"
  },
  "orig_nbformat": 4,
  "vscode": {
   "interpreter": {
    "hash": "cdf433682cbe9968d7764873f87164db8641effb758ebee62e489150bdf64f5a"
   }
  }
 },
 "nbformat": 4,
 "nbformat_minor": 2
}
